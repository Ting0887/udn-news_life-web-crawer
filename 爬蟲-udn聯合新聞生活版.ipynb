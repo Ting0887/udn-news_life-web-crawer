{
 "cells": [
  {
   "cell_type": "code",
   "execution_count": 75,
   "metadata": {},
   "outputs": [],
   "source": [
    "import requests\n",
    "from bs4 import BeautifulSoup\n",
    "import pandas as pd\n",
    "df = [] \n",
    "bar = html.find_all(\"section\",{\"class\":\"thumb-news more-news thumb-news--big context-box\"}) \n",
    "\n",
    "count = 0\n",
    "\n",
    "for i in range(1,8): #bar[1]~bar[7],不挑bar[0]是因為會選到\"最新新聞\"裡的內容\n",
    "                     #，最新新聞裡的內容跟bar[1]~bar[7]會重複，所以才這樣挑選\n",
    "    \n",
    "    news_title = bar[i].select(\".story-list__text\") #新聞標題\n",
    "    \n",
    "    for j in news_title:\n",
    "        \n",
    "        count += 1 \n",
    "        \n",
    "        title = j.find(\"a\").get(\"title\")#新聞標題\n",
    "        links = \"https://udn.com/\" + j.find(\"a\").get(\"href\") #新聞連結\n",
    "        date = j.find(\"time\",\"story-list__time\").text #報導時間\n",
    "        content = j.find(\"p\").text #新聞內容\n",
    "        \n",
    "       # print(\"第{}篇:\".format(count),title,links,date,content) \n",
    "        \n",
    "        dflist = pd.DataFrame([{\"新聞標題\":title,\n",
    "                                \"新聞連結\":links,\n",
    "                                \"報導時間\":date,\n",
    "                                \"新聞內容\":content}])\n",
    "        \n",
    "        df.append(dflist)\n",
    "        \n",
    "df = pd.concat(df, ignore_index=True)\n",
    "#df.to_excel('udn.xlsx',index=0) #寫入excel\n",
    "df.to_json('udn.json',force_ascii=False) #為了防止寫入json檔會有亂碼，所以force_ascii參數設定為false"
   ]
  }
 ],
 "metadata": {
  "kernelspec": {
   "display_name": "Python 3",
   "language": "python",
   "name": "python3"
  },
  "language_info": {
   "codemirror_mode": {
    "name": "ipython",
    "version": 3
   },
   "file_extension": ".py",
   "mimetype": "text/x-python",
   "name": "python",
   "nbconvert_exporter": "python",
   "pygments_lexer": "ipython3",
   "version": "3.7.6"
  }
 },
 "nbformat": 4,
 "nbformat_minor": 4
}
